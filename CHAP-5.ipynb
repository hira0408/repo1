{
 "cells": [
  {
   "cell_type": "code",
   "execution_count": 3,
   "id": "d9da13d6",
   "metadata": {},
   "outputs": [
    {
     "name": "stdout",
     "output_type": "stream",
     "text": [
      "Before: 0\n",
      "1 9\n",
      "2 41\n",
      "3 12\n",
      "4 3\n",
      "5 74\n",
      "6 15\n",
      "After: 6\n"
     ]
    }
   ],
   "source": [
    "count = 0\n",
    "print(\"Before:\", count)\n",
    "for thing in [9, 41, 12, 3, 74, 15]:\n",
    "    count = count + 1\n",
    "    print(count, thing)\n",
    "print(\"After:\", count)"
   ]
  },
  {
   "cell_type": "code",
   "execution_count": 4,
   "id": "b05e35ba",
   "metadata": {},
   "outputs": [
    {
     "name": "stdout",
     "output_type": "stream",
     "text": [
      "Befor: 0 0\n",
      "1 9 9\n",
      "2 50 41\n",
      "3 62 12\n",
      "4 65 3\n",
      "5 139 74\n",
      "6 154 15\n",
      "After: 6 154 25.666666666666668\n"
     ]
    }
   ],
   "source": [
    "count = 0\n",
    "sum = 0\n",
    "print(\"Befor:\", count, sum)\n",
    "for value in [9, 41, 12, 3, 74, 15]:\n",
    "    count = count + 1\n",
    "    sum = sum + value\n",
    "    print(count, sum, value)\n",
    "print(\"After:\", count, sum, sum / count)"
   ]
  },
  {
   "cell_type": "code",
   "execution_count": 6,
   "id": "0f7d4d10",
   "metadata": {},
   "outputs": [
    {
     "name": "stdout",
     "output_type": "stream",
     "text": [
      "Befor:\n",
      "After:\n",
      "Large number 41\n",
      "After:\n",
      "After:\n",
      "After:\n",
      "Large number 74\n",
      "After:\n",
      "After:\n"
     ]
    }
   ],
   "source": [
    "print(\"Befor:\")\n",
    "for value in [9, 41, 12, 3, 74, 15]:\n",
    "    if value > 20:\n",
    "        print(\"Large number\", value)\n",
    "    print(\"After:\")"
   ]
  },
  {
   "cell_type": "code",
   "execution_count": 8,
   "id": "77c68d8b",
   "metadata": {},
   "outputs": [
    {
     "name": "stdout",
     "output_type": "stream",
     "text": [
      "Before: False\n",
      "After False\n",
      "After False\n",
      "After False\n",
      "True 3\n",
      "After True\n",
      "After True\n",
      "After True\n"
     ]
    }
   ],
   "source": [
    "found = False\n",
    "print(\"Before:\", found)\n",
    "for value in [9, 41, 12, 3, 74, 15]:\n",
    "    if value == 3:\n",
    "        found = True\n",
    "        print(found, value)\n",
    "    print(\"After\", found)"
   ]
  },
  {
   "cell_type": "code",
   "execution_count": null,
   "id": "1bd8546a",
   "metadata": {},
   "outputs": [],
   "source": []
  }
 ],
 "metadata": {
  "kernelspec": {
   "display_name": "Python 3 (ipykernel)",
   "language": "python",
   "name": "python3"
  },
  "language_info": {
   "codemirror_mode": {
    "name": "ipython",
    "version": 3
   },
   "file_extension": ".py",
   "mimetype": "text/x-python",
   "name": "python",
   "nbconvert_exporter": "python",
   "pygments_lexer": "ipython3",
   "version": "3.9.13"
  }
 },
 "nbformat": 4,
 "nbformat_minor": 5
}
