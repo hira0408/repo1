{
 "cells": [
  {
   "cell_type": "code",
   "execution_count": 4,
   "id": "ac31080b",
   "metadata": {},
   "outputs": [
    {
     "name": "stdout",
     "output_type": "stream",
     "text": [
      "Hello\n",
      "World\n"
     ]
    },
    {
     "data": {
      "text/plain": [
       "11"
      ]
     },
     "execution_count": 4,
     "metadata": {},
     "output_type": "execute_result"
    }
   ],
   "source": [
    "stuff = 'Hello\\nWorld'\n",
    "stuff\n",
    "'Hello\\nWorld'\n",
    "print(stuff)\n",
    "len(stuff)\n"
   ]
  },
  {
   "cell_type": "code",
   "execution_count": 2,
   "id": "a23de2c4",
   "metadata": {},
   "outputs": [
    {
     "name": "stdout",
     "output_type": "stream",
     "text": [
      "A\n",
      "B\n",
      "C\n",
      "D\n"
     ]
    }
   ],
   "source": [
    "stuff = 'A\\nB\\nC\\nD'\n",
    "stuff\n",
    "'A\\nB\\nC\\nD'\n",
    "print(stuff)"
   ]
  },
  {
   "cell_type": "code",
   "execution_count": 3,
   "id": "aa3f003b",
   "metadata": {},
   "outputs": [
    {
     "data": {
      "text/plain": [
       "7"
      ]
     },
     "execution_count": 3,
     "metadata": {},
     "output_type": "execute_result"
    }
   ],
   "source": [
    "len(stuff)"
   ]
  },
  {
   "cell_type": "code",
   "execution_count": 6,
   "id": "03150b83",
   "metadata": {},
   "outputs": [
    {
     "name": "stdout",
     "output_type": "stream",
     "text": [
      "cheese is the best \n",
      "\n",
      "cheese used in food\n",
      "\n",
      "cheese is yummy\n",
      "\n",
      "let's go and buy cheese\n",
      "\n",
      "let'ssss goooooo\n"
     ]
    }
   ],
   "source": [
    "xfile = open('mbox.txt')\n",
    "for cheese in xfile:\n",
    "    print(cheese)"
   ]
  },
  {
   "cell_type": "code",
   "execution_count": 7,
   "id": "7beb05c9",
   "metadata": {},
   "outputs": [
    {
     "name": "stdout",
     "output_type": "stream",
     "text": [
      "line count: 1\n",
      "line count: 2\n",
      "line count: 3\n",
      "line count: 4\n",
      "line count: 5\n"
     ]
    }
   ],
   "source": [
    "fhand = open('mbox.txt')\n",
    "count = 0\n",
    "for line in fhand:\n",
    "    count = count + 1\n",
    "    print('line count:',count)"
   ]
  },
  {
   "cell_type": "code",
   "execution_count": 9,
   "id": "4d6d5627",
   "metadata": {},
   "outputs": [
    {
     "name": "stdout",
     "output_type": "stream",
     "text": [
      "96\n"
     ]
    }
   ],
   "source": [
    "fhand = open('mbox.txt')\n",
    "inp = fhand.read()\n",
    "print(len(inp))\n"
   ]
  },
  {
   "cell_type": "code",
   "execution_count": 12,
   "id": "2880e3d1",
   "metadata": {},
   "outputs": [
    {
     "name": "stdout",
     "output_type": "stream",
     "text": [
      "cheese is the best \n",
      "cheese used in food\n",
      "cheese is \n"
     ]
    }
   ],
   "source": [
    "print(inp[:50])\n"
   ]
  },
  {
   "cell_type": "code",
   "execution_count": 22,
   "id": "51ddcdde",
   "metadata": {},
   "outputs": [
    {
     "name": "stdout",
     "output_type": "stream",
     "text": [
      "let's go and buy cheese\n",
      "\n",
      "let'ssss goooooo\n"
     ]
    }
   ],
   "source": [
    "fhand = open('mbox.txt')\n",
    "for line in fhand:\n",
    "    if line.startswith(\"let's\"):\n",
    "        print(line)\n"
   ]
  },
  {
   "cell_type": "code",
   "execution_count": 24,
   "id": "63083d15",
   "metadata": {},
   "outputs": [
    {
     "name": "stdout",
     "output_type": "stream",
     "text": [
      "let's go and buy cheese\n",
      "let'ssss goooooo\n"
     ]
    }
   ],
   "source": [
    "fhand = open('mbox.txt')\n",
    "for line in fhand:\n",
    "    line = line.rstrip()\n",
    "    if line.startswith(\"let's\"):\n",
    "        print(line)"
   ]
  },
  {
   "cell_type": "code",
   "execution_count": 26,
   "id": "43145845",
   "metadata": {},
   "outputs": [
    {
     "name": "stdout",
     "output_type": "stream",
     "text": [
      "cheese is the best\n",
      "cheese used in food\n",
      "cheese is yummy\n"
     ]
    }
   ],
   "source": [
    "fhand = open('mbox.txt')\n",
    "for line in fhand:\n",
    "    line = line.rstrip()\n",
    "    if not line.startswith(\"cheese\"):\n",
    "        continue\n",
    "    print(line)"
   ]
  },
  {
   "cell_type": "code",
   "execution_count": 27,
   "id": "4e0462cc",
   "metadata": {},
   "outputs": [
    {
     "name": "stdout",
     "output_type": "stream",
     "text": [
      "Enter the file name:mbox.txt\n",
      "there were 0 subject lines in mbox.txt\n"
     ]
    }
   ],
   "source": [
    "fname = input('Enter the file name:')\n",
    "fhand = open(fname)\n",
    "count = 0\n",
    "for line in fhand:\n",
    "    if line.startswith('subject:'):\n",
    "        count = count +1\n",
    "print('there were',count,'subject lines in',fname)"
   ]
  },
  {
   "cell_type": "code",
   "execution_count": 29,
   "id": "53465c94",
   "metadata": {},
   "outputs": [
    {
     "name": "stdout",
     "output_type": "stream",
     "text": [
      "Enter the file name:mbox.txt\n",
      "there were 0 subject lines in mbox.txt\n"
     ]
    }
   ],
   "source": [
    "fname = input('Enter the file name:')\n",
    "try:\n",
    "    fhand = open(fname)\n",
    "except:\n",
    "    print('file cannot be opened:',fname)\n",
    "    quit()\n",
    "    \n",
    "count = 0\n",
    "for line in fhand:\n",
    "    if line.startswith('subject:'):\n",
    "        count = count + 1\n",
    "print('there were', count, 'subject lines in',fname)"
   ]
  },
  {
   "cell_type": "code",
   "execution_count": null,
   "id": "a18666a0",
   "metadata": {},
   "outputs": [],
   "source": []
  }
 ],
 "metadata": {
  "kernelspec": {
   "display_name": "Python 3 (ipykernel)",
   "language": "python",
   "name": "python3"
  },
  "language_info": {
   "codemirror_mode": {
    "name": "ipython",
    "version": 3
   },
   "file_extension": ".py",
   "mimetype": "text/x-python",
   "name": "python",
   "nbconvert_exporter": "python",
   "pygments_lexer": "ipython3",
   "version": "3.9.13"
  }
 },
 "nbformat": 4,
 "nbformat_minor": 5
}
