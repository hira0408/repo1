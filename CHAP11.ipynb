{
 "cells": [
  {
   "cell_type": "code",
   "execution_count": 1,
   "id": "03b28cab",
   "metadata": {},
   "outputs": [
    {
     "name": "stdout",
     "output_type": "stream",
     "text": [
      "red\n"
     ]
    }
   ],
   "source": [
    "class apple:\n",
    "    pass\n",
    "\n",
    "class apple:\n",
    "    color = \"\"\n",
    "    flavor = \"\"\n",
    "\n",
    "jonagold = apple()\n",
    "jonagold.color = \"red\"\n",
    "jonagold.flavor = \"sweet\"\n",
    "print(jonagold.color)"
   ]
  },
  {
   "cell_type": "code",
   "execution_count": 2,
   "id": "540ec4c8",
   "metadata": {},
   "outputs": [
    {
     "name": "stdout",
     "output_type": "stream",
     "text": [
      "sweet\n"
     ]
    }
   ],
   "source": [
    "print(jonagold.flavor)"
   ]
  },
  {
   "cell_type": "code",
   "execution_count": 3,
   "id": "72814c88",
   "metadata": {},
   "outputs": [
    {
     "name": "stdout",
     "output_type": "stream",
     "text": [
      "RED\n"
     ]
    }
   ],
   "source": [
    "print(jonagold.color.upper())"
   ]
  },
  {
   "cell_type": "code",
   "execution_count": 4,
   "id": "88a0fe92",
   "metadata": {},
   "outputs": [
    {
     "name": "stdout",
     "output_type": "stream",
     "text": [
      "red\n"
     ]
    }
   ],
   "source": [
    "print(jonagold.color.lower())"
   ]
  },
  {
   "cell_type": "code",
   "execution_count": 6,
   "id": "7e365d8e",
   "metadata": {},
   "outputs": [],
   "source": [
    "golden = apple()\n",
    "golden.color = \"yellow\"\n",
    "golden.flavor = \"soft\""
   ]
  },
  {
   "cell_type": "code",
   "execution_count": 7,
   "id": "4bab22be",
   "metadata": {},
   "outputs": [
    {
     "name": "stdout",
     "output_type": "stream",
     "text": [
      "roses are purple,\n",
      "violets are blue,\n",
      "sugar is sweet, and so are you.\n"
     ]
    }
   ],
   "source": [
    "class flower:\n",
    "    color = 'unknown'\n",
    "\n",
    "rose = flower()\n",
    "rose.color = \"purple\"\n",
    "\n",
    "violet = flower()\n",
    "violet.color = \"blue\"\n",
    "\n",
    "this_pun_is_for_you = \"sugar is sweet, and so are you.\"\n",
    "\n",
    "print(\"roses are {},\".format(rose.color))\n",
    "print(\"violets are {},\".format(violet.color))\n",
    "print(this_pun_is_for_you)\n"
   ]
  },
  {
   "cell_type": "code",
   "execution_count": 8,
   "id": "56036e78",
   "metadata": {},
   "outputs": [
    {
     "name": "stdout",
     "output_type": "stream",
     "text": [
      "Meow! I'm luna! Meow\n",
      "Meow! I'm bella! Meow\n"
     ]
    }
   ],
   "source": [
    "class cat:\n",
    "    name = \"\"\n",
    "    def speak(self):\n",
    "        print(\"Meow! I'm {}! Meow\".format(self.name))\n",
    "myluna = cat()\n",
    "myluna.name = \"luna\"\n",
    "myluna.speak()\n",
    "\n",
    "mybella = cat()\n",
    "mybella.name = \"bella\"\n",
    "mybella.speak()\n",
    "        "
   ]
  },
  {
   "cell_type": "code",
   "execution_count": 10,
   "id": "7595ac68",
   "metadata": {},
   "outputs": [
    {
     "data": {
      "text/plain": [
       "72"
      ]
     },
     "execution_count": 10,
     "metadata": {},
     "output_type": "execute_result"
    }
   ],
   "source": [
    "class cat:\n",
    "    years = 0\n",
    "    def age(self):\n",
    "        return self.years*12\n",
    "myluna = cat()\n",
    "myluna.years = 6\n",
    "myluna.age()"
   ]
  },
  {
   "cell_type": "code",
   "execution_count": 12,
   "id": "b557ce66",
   "metadata": {},
   "outputs": [
    {
     "name": "stdout",
     "output_type": "stream",
     "text": [
      "green\n",
      "sour\n"
     ]
    }
   ],
   "source": [
    "class apple:\n",
    "    def __init__(self,color,flavor):\n",
    "        self.color = color\n",
    "        self.flavor = flavor\n",
    "jonagold = apple(\"green\",\"sour\")\n",
    "print(jonagold.color)\n",
    "print(jonagold.flavor)"
   ]
  },
  {
   "cell_type": "code",
   "execution_count": 13,
   "id": "d698fd58",
   "metadata": {},
   "outputs": [],
   "source": [
    "class apple:\n",
    "    def __init__(self,color,flavor):\n",
    "        self.color = color\n",
    "        self.flavor = flavor\n",
    "    def __str__(self):\n",
    "        return \"this apple is {} and its flavor is {}\".format(self.color, self.flavor)\n",
    "    "
   ]
  },
  {
   "cell_type": "code",
   "execution_count": 15,
   "id": "7b7e422d",
   "metadata": {},
   "outputs": [
    {
     "name": "stdout",
     "output_type": "stream",
     "text": [
      "this apple is green and its flavor is sour\n"
     ]
    }
   ],
   "source": [
    "jonagold = apple(\"green\",\"sour\")\n",
    "print(jonagold)"
   ]
  },
  {
   "cell_type": "code",
   "execution_count": null,
   "id": "b720a5e5",
   "metadata": {},
   "outputs": [],
   "source": [
    "help(apple)"
   ]
  },
  {
   "cell_type": "code",
   "execution_count": null,
   "id": "9a84cb18",
   "metadata": {},
   "outputs": [],
   "source": [
    "def to_seconds(hours, minutes, seconds):\n",
    "    \"\"\"Returns the amount of seconds in the given hours, minutes and seconds.\"\"\"\n",
    "    return hours * 3600 + minutes * 60 + seconds "
   ]
  },
  {
   "cell_type": "code",
   "execution_count": 18,
   "id": "38dc09e8",
   "metadata": {},
   "outputs": [
    {
     "name": "stdout",
     "output_type": "stream",
     "text": [
      "Help on function to_seconds in module __main__:\n",
      "\n",
      "to_seconds(hours, minutes, seconds)\n",
      "    Returns the amount of seconds in the given hours, minutes and seconds.\n",
      "\n"
     ]
    }
   ],
   "source": [
    "help(to_seconds)"
   ]
  },
  {
   "cell_type": "code",
   "execution_count": null,
   "id": "ae6c9d03",
   "metadata": {},
   "outputs": [],
   "source": [
    "class person:\n",
    "    def __init__(self,name):\n",
    "        self.name = name\n",
    "    def greeting(self):\n",
    "        \n",
    "        print(\"hello! my name is {name}.\".format(name=self))\n",
    "        \n",
    "help()"
   ]
  },
  {
   "cell_type": "code",
   "execution_count": null,
   "id": "4db44fc3",
   "metadata": {},
   "outputs": [],
   "source": [
    "help(person)"
   ]
  },
  {
   "cell_type": "code",
   "execution_count": null,
   "id": "c0b9b938",
   "metadata": {},
   "outputs": [],
   "source": [
    "class classname:\n",
    "    def method_name(self, other_parameters):\n",
    "        body_of_method\n",
    "def function_name(parameters):\n",
    "    body_of_function"
   ]
  },
  {
   "cell_type": "code",
   "execution_count": null,
   "id": "35a07e09",
   "metadata": {},
   "outputs": [],
   "source": [
    "class fruit:\n",
    "    def__init__(self,color,flavor):\n",
    "        self.color=color\n",
    "        self.flavor=flavor\n",
    "        "
   ]
  },
  {
   "cell_type": "code",
   "execution_count": null,
   "id": "036ea332",
   "metadata": {},
   "outputs": [],
   "source": [
    "class apple(fruit):\n",
    "    pass\n",
    "class grape(fruit):\n",
    "    pass"
   ]
  },
  {
   "cell_type": "code",
   "execution_count": null,
   "id": "0c1d7dc9",
   "metadata": {},
   "outputs": [],
   "source": [
    "mr_parker = apple(\"green\",\"tart\")\n",
    "lucy = grape(\"purple\",\"sweet\")\n",
    "print(mr_parker.flavor)\n"
   ]
  },
  {
   "cell_type": "code",
   "execution_count": null,
   "id": "aa318112",
   "metadata": {},
   "outputs": [],
   "source": [
    "print(lucy.color)"
   ]
  },
  {
   "cell_type": "code",
   "execution_count": null,
   "id": "eea5327b",
   "metadata": {},
   "outputs": [],
   "source": [
    "class animal:\n",
    "    sound = \"\"\n",
    "    def __init__(self,name):\n",
    "        self.name = name\n",
    "    def speak(self):\n",
    "        print(\"{sound} I'm {name}! {name}\".format(name=self.name, sound=self.sound))\n",
    "    class cat(animal):\n",
    "        sound = \"meow!\"\n",
    "        \n",
    "    myluna = cat(\"luna\")\n",
    "    myluna.speak()"
   ]
  },
  {
   "cell_type": "code",
   "execution_count": null,
   "id": "38fd8d56",
   "metadata": {},
   "outputs": [],
   "source": [
    "class clothing:\n",
    "    material = \"\"\n",
    "    def __init__(self,name):\n",
    "        self.name = name\n",
    "    def checkmaterial(self):\n",
    "        print(\"this {} is made of {}\".formate(self.name,self.material))\n",
    "\n",
    "class shirt(clothing):\n",
    "    material = \"cotton\"\n",
    "\n",
    "polo = shirt(\"polo\")\n",
    "polo.checkmaterial()\n"
   ]
  },
  {
   "cell_type": "code",
   "execution_count": null,
   "id": "e23799ec",
   "metadata": {},
   "outputs": [],
   "source": []
  },
  {
   "cell_type": "code",
   "execution_count": null,
   "id": "1d5e1b0c",
   "metadata": {},
   "outputs": [],
   "source": []
  },
  {
   "cell_type": "code",
   "execution_count": null,
   "id": "11654eef",
   "metadata": {},
   "outputs": [],
   "source": []
  }
 ],
 "metadata": {
  "kernelspec": {
   "display_name": "Python 3 (ipykernel)",
   "language": "python",
   "name": "python3"
  },
  "language_info": {
   "codemirror_mode": {
    "name": "ipython",
    "version": 3
   },
   "file_extension": ".py",
   "mimetype": "text/x-python",
   "name": "python",
   "nbconvert_exporter": "python",
   "pygments_lexer": "ipython3",
   "version": "3.9.13"
  }
 },
 "nbformat": 4,
 "nbformat_minor": 5
}
