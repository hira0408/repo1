{
 "cells": [
  {
   "cell_type": "code",
   "execution_count": null,
   "id": "ceecefaa",
   "metadata": {},
   "outputs": [],
   "source": [
    "def computepay(h,r):\n",
    "    if h > 40:\n",
    "        p = 1.5 * r * (h-40) + (40 * r)\n",
    "        else\n",
    "            p = h * r\n",
    "            return p\n",
    "        \n",
    "        \n",
    "        hrs = input (\"Enter Hours:\")\n",
    "        hr = float(hrs)\n",
    "        rphrs = input(\"Enter rate per hour:\")\n",
    "        rphr = float(rphrs)\n",
    "        \n",
    "        \n",
    "        p = computepay(hr,rphr)\n",
    "        print(\"Pay:\",p)"
   ]
  },
  {
   "cell_type": "code",
   "execution_count": null,
   "id": "b3bc744c",
   "metadata": {},
   "outputs": [],
   "source": []
  },
  {
   "cell_type": "code",
   "execution_count": null,
   "id": "1f0f8b7d",
   "metadata": {},
   "outputs": [],
   "source": []
  }
 ],
 "metadata": {
  "kernelspec": {
   "display_name": "Python 3 (ipykernel)",
   "language": "python",
   "name": "python3"
  },
  "language_info": {
   "codemirror_mode": {
    "name": "ipython",
    "version": 3
   },
   "file_extension": ".py",
   "mimetype": "text/x-python",
   "name": "python",
   "nbconvert_exporter": "python",
   "pygments_lexer": "ipython3",
   "version": "3.9.13"
  }
 },
 "nbformat": 4,
 "nbformat_minor": 5
}
